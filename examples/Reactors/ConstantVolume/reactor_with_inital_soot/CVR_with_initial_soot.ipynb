{
 "cells": [
  {
   "cell_type": "code",
   "execution_count": 71,
   "id": "b47d3d33-cd6f-4c09-996b-342480011cdb",
   "metadata": {},
   "outputs": [],
   "source": [
    "import cantera as ct\n",
    "from omnisoot import ConstantVolumeReactor, SootGas, SootThermo, constants\n",
    "import numpy as np\n",
    "import os\n",
    "import pandas as pd\n",
    "import time\n",
    "import matplotlib.pyplot as plt"
   ]
  },
  {
   "cell_type": "code",
   "execution_count": 72,
   "id": "1d02d5af-cef4-4831-8088-af313a987798",
   "metadata": {},
   "outputs": [],
   "source": [
    "### gas\n",
    "gas = ct.Solution(\"data/Caltech_basic.yaml\");\n",
    "soot_gas = SootGas(gas);\n",
    "### ---------------------------------------------------------------------------------\n",
    "### Temperature Time History\n",
    "time_data = [0, 0.005, 0.01, 0.015, 0.02, 0.025, 0.03, 0.035, 0.04, 0.045, 0.05, 0.055, 0.06, 0.065, 0.07, 0.075, 0.08, 0.085, 0.09, 0.095, 0.1];\n",
    "temp_data = [2200, 2100, 2000, 1900, 1800, 1700, 1672, 1671, 1670, 1669, 1666, 1662, 1655, 1643, 1623, 1590, 1536, 1448, 1301, 1060, 663];\n",
    "fixed_profile = np.array([time_data, Temp_data])"
   ]
  },
  {
   "cell_type": "code",
   "execution_count": 73,
   "id": "c6397229-2cf6-4749-9616-4d120e6ee3d6",
   "metadata": {},
   "outputs": [],
   "source": [
    "### Intial conditions of the reactor\n",
    "T = temp_data[0]; # K\n",
    "P = 101350; # Pa\n",
    "X = {'CH4':0.2, 'N2': 0.8};\n",
    "max_res_time = 0.1\n",
    "### Initial conditions\n",
    "soot_gas.TPX = T, P, X;"
   ]
  },
  {
   "cell_type": "code",
   "execution_count": 74,
   "id": "6c8a3ed5-8d71-43cf-b68c-bc7abf128e1b",
   "metadata": {},
   "outputs": [],
   "source": [
    "### Initial soot properties \n",
    "N_agg_number_0 = 1e20; # 1/m3\n",
    "n_p_0 = 1;\n",
    "d_p_0 = 5e-9; # m\n",
    "H_C_ratio = 0.8; \n",
    "### Calculating soot array to use as an input to the model\n",
    "N_agg_0 = N_agg_number_0 / soot_gas.density / constants.Av; # mol/kg\n",
    "N_pri_0 = N_agg_0 * n_p_0; # mol/kg\n",
    "m_p_0 = constants.Pi / 6 * d_p_0 ** 3.0 * constants.rho_soot\n",
    "C_tot_0 = N_pri_0 * m_p_0;\n",
    "H_tot_0 = H_C_ratio * C_tot_0;"
   ]
  },
  {
   "cell_type": "code",
   "execution_count": 75,
   "id": "3e1b1e03-74be-434b-9563-d67d313e937c",
   "metadata": {},
   "outputs": [],
   "source": [
    "### Reactor\n",
    "reactor = ConstantVolumeReactor(soot_gas);\n",
    "soot = reactor.soot;\n",
    "### PAH growth models\n",
    "PAH_growth_model_type = [\"ReactiveDimerization\", \"DimerCoalescence\", \"EBridgeModified\", \"IrreversibleDimerization\"][0];\n",
    "soot.PAH_growth_model_type = PAH_growth_model_type;\n",
    "### Setting precursors\n",
    "soot.set_precursor_names(['A2', 'A2R5', 'A3R5', 'A4R5']);\n",
    "### Reactor integrator settings\n",
    "reactor.max_step = 1e-3;\n",
    "reactor.max_time = max_res_time;\n",
    "reactor.solver_type = \"BDF\";\n",
    "reactor.temperature_solver_type = \"profile_time\";\n",
    "reactor.set_fix_temperature_profile(fixed_profile);\n",
    "### Initial soot\n",
    "reactor.initial_soot_type = \"custom\";\n",
    "reactor.user_defined_initial_soot = np.array([N_agg_0, N_pri_0, C_tot_0, H_tot_0]);\n",
    "### Flags\n",
    "soot.inception_enabled = False;\n",
    "soot.PAH_adsorption_enabled = False;\n",
    "soot.surface_growth_enabled = False;\n",
    "soot.oxidation_enabled = False;\n",
    "soot.coagulation_enabled = True;\n",
    "reactor.start();"
   ]
  },
  {
   "cell_type": "code",
   "execution_count": 76,
   "id": "f5804a51-1f55-4a01-a3f4-56372ee5574d",
   "metadata": {},
   "outputs": [],
   "source": [
    "### Soltuion array\n",
    "states = ct.SolutionArray(gas, 1, extra = {  'restime': [0.0] ,\n",
    "                                             'N_agg': [soot.N_agg], 'N_pri': [soot.N_pri], \n",
    "                                             'C_tot': [soot.C_tot], 'H_tot': [soot.H_tot],\n",
    "                                             'A_tot': [soot.A_tot],\n",
    "                                             'd_p': [soot.d_p], 'd_m': [soot.d_m],\n",
    "                                             'd_v': [soot.d_v], 'd_g': [soot.d_g],\n",
    "                                             'n_p': [soot.n_p],\n",
    "                                             'total_mass' : [soot.total_mass],\n",
    "                                             'volume_fraction':[soot.volume_fraction],\n",
    "                                             'SSA': [soot.SSA],\n",
    "                                             'inception_mass': [soot.inception_mass],\n",
    "                                             'coagulation_mass': [soot.coagulation_mass],\n",
    "                                             'PAH_adsorption_mass' : [soot.PAH_adsorption_mass],\n",
    "                                             'surface_growth_mass' : [soot.surface_growth_mass],\n",
    "                                             'oxidation_mass': [soot.oxidation_mass],\n",
    "                                             'total_carbon_mass' : [reactor.total_carbon_mass],\n",
    "                                             'total_hydrogen_mass' : [reactor.total_hydrogen_mass],\n",
    "                                             'soot_carbon_mass' : [reactor.soot_carbon_mass],\n",
    "                                        });\n",
    "def append():\n",
    "    states.append(gas.state, restime = reactor.restime, \n",
    "              N_agg = soot.N_agg, N_pri =soot.N_pri,\n",
    "              C_tot = soot.C_tot, H_tot = soot.H_tot, A_tot = soot.A_tot,\n",
    "              d_p = soot.d_p, d_m = soot.d_m, d_v = soot.d_v, d_g = soot.d_g,\n",
    "              n_p = soot.n_p,\n",
    "              total_mass = soot.total_mass, volume_fraction = soot.volume_fraction, SSA = soot.SSA,\n",
    "              inception_mass = soot.inception_mass,\n",
    "              coagulation_mass = soot.coagulation_mass,\n",
    "              PAH_adsorption_mass = soot.PAH_adsorption_mass,\n",
    "              surface_growth_mass = soot.surface_growth_mass,\n",
    "              oxidation_mass = soot.oxidation_mass,\n",
    "              total_carbon_mass = reactor.total_carbon_mass,\n",
    "              total_hydrogen_mass = reactor.total_hydrogen_mass,\n",
    "              soot_carbon_mass = reactor.soot_carbon_mass                \n",
    "             );"
   ]
  },
  {
   "cell_type": "code",
   "execution_count": 77,
   "id": "e1028068-70ee-4ea3-a4a1-08b45809e6a4",
   "metadata": {},
   "outputs": [
    {
     "name": "stdout",
     "output_type": "stream",
     "text": [
      "the simulation took 2.1899 s\n"
     ]
    }
   ],
   "source": [
    "### Running the reactor\n",
    "start_time = time.time()\n",
    "step = 0;\n",
    "while reactor.restime < max_res_time:\n",
    "    step += 1;\n",
    "    reactor.step();\n",
    "    if step % 5 == 0:\n",
    "        append();\n",
    "else:\n",
    "    append();\n",
    "end_time = time.time();\n",
    "print(f\"the simulation took {(end_time-start_time):0.4f} s\");"
   ]
  },
  {
   "cell_type": "code",
   "execution_count": null,
   "id": "d3f67e33-f7c4-4440-bbeb-20f45c67fcdd",
   "metadata": {},
   "outputs": [],
   "source": []
  }
 ],
 "metadata": {
  "kernelspec": {
   "display_name": "Python 3 (ipykernel)",
   "language": "python",
   "name": "python3"
  },
  "language_info": {
   "codemirror_mode": {
    "name": "ipython",
    "version": 3
   },
   "file_extension": ".py",
   "mimetype": "text/x-python",
   "name": "python",
   "nbconvert_exporter": "python",
   "pygments_lexer": "ipython3",
   "version": "3.12.2"
  }
 },
 "nbformat": 4,
 "nbformat_minor": 5
}
